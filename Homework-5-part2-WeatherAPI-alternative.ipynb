{
 "cells": [
  {
   "cell_type": "markdown",
   "id": "b18f3e6c-4431-45fa-80bb-aa870781a1a3",
   "metadata": {},
   "source": [
    "# Part Two: A WeatherAPI alternative"
   ]
  },
  {
   "cell_type": "markdown",
   "id": "beab11cb-3738-4465-8847-68a5cd998bd7",
   "metadata": {},
   "source": [
    "**1. Examine both Open Meteo and Tomorrow and decide which one you'd prefer to use. What drove your decision?**"
   ]
  },
  {
   "cell_type": "markdown",
   "id": "32d9262b-9d8f-4f53-b8cf-1426e316fbef",
   "metadata": {},
   "source": [
    "I'm choosing Tomorrow because its interface and documentation seems easier to use."
   ]
  },
  {
   "cell_type": "markdown",
   "id": "c15f1512-a5ca-4216-93aa-0d7c066f5021",
   "metadata": {},
   "source": [
    "**2. What is the URL to the documentation?**"
   ]
  },
  {
   "cell_type": "markdown",
   "id": "f5209c77-fa65-4de7-a8ef-9073a1c813b0",
   "metadata": {},
   "source": [
    "https://docs.tomorrow.io/reference/welcome"
   ]
  },
  {
   "cell_type": "markdown",
   "id": "29b55f25-f273-4f9d-b419-f04a6706a60b",
   "metadata": {},
   "source": [
    "**3. Make a request for the current weather where you are born, or somewhere you've lived.**"
   ]
  },
  {
   "cell_type": "code",
   "execution_count": 4,
   "id": "ebbdd62f-c0ee-49e7-8e35-390935b1ad8c",
   "metadata": {},
   "outputs": [
    {
     "name": "stdout",
     "output_type": "stream",
     "text": [
      "{'data': {'time': '2025-06-11T01:19:00Z', 'values': {'cloudBase': 16, 'cloudCeiling': 16, 'cloudCover': 0, 'dewPoint': 13.2, 'freezingRainIntensity': 0, 'humidity': 40, 'precipitationProbability': 0, 'pressureSeaLevel': 1009.95, 'pressureSurfaceLevel': 1008.72, 'rainIntensity': 0, 'sleetIntensity': 0, 'snowIntensity': 0, 'temperature': 28.3, 'temperatureApparent': 27.9, 'uvHealthConcern': 0, 'uvIndex': 1, 'visibility': 16, 'weatherCode': 1000, 'windDirection': 213, 'windGust': 8.2, 'windSpeed': 4.7}}, 'location': {'lat': 38.5774040222168, 'lon': -121.46554565429688, 'name': 'Sacramento, Sacramento County, California, 95816, United States', 'type': 'postcode'}}\n"
     ]
    }
   ],
   "source": [
    "import requests\n",
    "\n",
    "api_key = 'iHMWkr5nnjL1grE7YEmL3ATPt7KhXUSl'\n",
    "\n",
    "response = requests.get(f\"https://api.tomorrow.io/v4/weather/realtime?location=95816_US&apikey={api_key}\")\n",
    "sacramento = response.json()\n",
    "\n",
    "print(sacramento)"
   ]
  },
  {
   "cell_type": "markdown",
   "id": "28fdc15a-1c13-41c5-b994-efd33ce4d7ae",
   "metadata": {},
   "source": [
    "**4. Print out the country this location is in.**"
   ]
  },
  {
   "cell_type": "code",
   "execution_count": 5,
   "id": "190df5ca-eb4a-4674-b765-ac26315f6cba",
   "metadata": {},
   "outputs": [
    {
     "name": "stdout",
     "output_type": "stream",
     "text": [
      "United States\n"
     ]
    }
   ],
   "source": [
    "print(sacramento['location']['name'][50:])"
   ]
  },
  {
   "cell_type": "markdown",
   "id": "ad615116-6970-450b-a35c-0c49af10bdfe",
   "metadata": {},
   "source": [
    "**5. Print out the difference between the current temperature and how warm it feels. Use \"It feels ___ degrees colder\" or \"It feels ___ degrees warmer,\" not negative numbers.**"
   ]
  },
  {
   "cell_type": "code",
   "execution_count": 6,
   "id": "7a381231-ede1-41cf-8e50-57eaf90c4870",
   "metadata": {},
   "outputs": [
    {
     "name": "stdout",
     "output_type": "stream",
     "text": [
      "It feels 0.4 degrees C warmer.\n"
     ]
    }
   ],
   "source": [
    "print(f\"It feels {round(abs(sacramento['data']['values']['temperature'] - sacramento['data']['values']['temperatureApparent']), 1)} degrees C warmer.\")"
   ]
  },
  {
   "cell_type": "markdown",
   "id": "8373f96d-5aba-4fac-b0eb-ea514cb676d9",
   "metadata": {},
   "source": [
    "**6. What's the current temperature at Heathrow International Airport? Use the airport's IATA code to search.**"
   ]
  },
  {
   "cell_type": "code",
   "execution_count": 7,
   "id": "e270f5d1-458e-4220-b12f-8265af5305c9",
   "metadata": {},
   "outputs": [
    {
     "name": "stdout",
     "output_type": "stream",
     "text": [
      "The current temperature at Heathrow International Airport is 13.6 degrees C.\n"
     ]
    }
   ],
   "source": [
    "response = requests.get(f\"https://api.tomorrow.io/v4/weather/realtime?location=51.470020, -0.454295&apikey={api_key}\")\n",
    "heathrow = response.json()\n",
    "\n",
    "print(f\"The current temperature at Heathrow International Airport is {heathrow['data']['values']['temperature']} degrees C.\")"
   ]
  },
  {
   "cell_type": "markdown",
   "id": "b8f080fa-bfea-48d5-9e77-a3cea27c9af8",
   "metadata": {},
   "source": [
    "**7. What URL would I use to request a 3-day forecast at Heathrow?**"
   ]
  },
  {
   "cell_type": "code",
   "execution_count": 15,
   "id": "3edb3449-7009-4dbb-8bcf-110bfdab49a0",
   "metadata": {},
   "outputs": [
    {
     "name": "stdout",
     "output_type": "stream",
     "text": [
      "[{'time': '2025-06-10T05:00:00Z', 'values': {'cloudBaseAvg': 1.7, 'cloudBaseMax': 11.1, 'cloudBaseMin': 0, 'cloudCeilingAvg': 3.1, 'cloudCeilingMax': 12.5, 'cloudCeilingMin': 0, 'cloudCoverAvg': 68, 'cloudCoverMax': 100, 'cloudCoverMin': 0, 'dewPointAvg': 12, 'dewPointMax': 15.1, 'dewPointMin': 10.3, 'evapotranspirationAvg': 0.129, 'evapotranspirationMax': 0.376, 'evapotranspirationMin': 0.007, 'evapotranspirationSum': 3.098, 'freezingRainIntensityAvg': 0, 'freezingRainIntensityMax': 0, 'freezingRainIntensityMin': 0, 'humidityAvg': 70, 'humidityMax': 91, 'humidityMin': 50, 'iceAccumulationAvg': 0, 'iceAccumulationLweAvg': 0, 'iceAccumulationLweMax': 0, 'iceAccumulationLweMin': 0, 'iceAccumulationLweSum': 0, 'iceAccumulationMax': 0, 'iceAccumulationMin': 0, 'iceAccumulationSum': 0, 'moonriseTime': '2025-06-10T20:14:41Z', 'moonsetTime': '2025-06-10T02:28:27Z', 'precipitationProbabilityAvg': 0, 'precipitationProbabilityMax': 0, 'precipitationProbabilityMin': 0, 'pressureSeaLevelAvg': 1017.74, 'pressureSeaLevelMax': 1020.49, 'pressureSeaLevelMin': 1015.1, 'pressureSurfaceLevelAvg': 1015.54, 'pressureSurfaceLevelMax': 1019.73, 'pressureSurfaceLevelMin': 1011.53, 'rainAccumulationAvg': 0, 'rainAccumulationMax': 0, 'rainAccumulationMin': 0, 'rainAccumulationSum': 0, 'rainIntensityAvg': 0, 'rainIntensityMax': 0, 'rainIntensityMin': 0, 'sleetAccumulationAvg': 0, 'sleetAccumulationLweAvg': 0, 'sleetAccumulationLweMax': 0, 'sleetAccumulationLweMin': 0, 'sleetAccumulationLweSum': 0, 'sleetAccumulationMax': 0, 'sleetAccumulationMin': 0, 'sleetIntensityAvg': 0, 'sleetIntensityMax': 0, 'sleetIntensityMin': 0, 'snowAccumulationAvg': 0, 'snowAccumulationLweAvg': 0, 'snowAccumulationLweMax': 0, 'snowAccumulationLweMin': 0, 'snowAccumulationLweSum': 0, 'snowAccumulationMax': 0, 'snowAccumulationMin': 0, 'snowAccumulationSum': 0, 'snowIntensityAvg': 0, 'snowIntensityMax': 0, 'snowIntensityMin': 0, 'sunriseTime': '2025-06-10T04:08:00Z', 'sunsetTime': '2025-06-10T19:54:00Z', 'temperatureApparentAvg': 17.8, 'temperatureApparentMax': 23.4, 'temperatureApparentMin': 12.3, 'temperatureAvg': 17.8, 'temperatureMax': 23.4, 'temperatureMin': 12.3, 'uvHealthConcernAvg': 0, 'uvHealthConcernMax': 1, 'uvHealthConcernMin': 0, 'uvIndexAvg': 1, 'uvIndexMax': 4, 'uvIndexMin': 0, 'visibilityAvg': 16, 'visibilityMax': 16, 'visibilityMin': 16, 'weatherCodeMax': 1001, 'weatherCodeMin': 1001, 'windDirectionAvg': 205, 'windGustAvg': 5.4, 'windGustMax': 11.4, 'windGustMin': 1.3, 'windSpeedAvg': 2.4, 'windSpeedMax': 5.2, 'windSpeedMin': 0.5}}, {'time': '2025-06-11T05:00:00Z', 'values': {'cloudBaseAvg': 2.8, 'cloudBaseMax': 12.1, 'cloudBaseMin': 0, 'cloudCeilingAvg': 4, 'cloudCeilingMax': 12.2, 'cloudCeilingMin': 0, 'cloudCoverAvg': 69, 'cloudCoverMax': 100, 'cloudCoverMin': 1, 'dewPointAvg': 11.7, 'dewPointMax': 13.5, 'dewPointMin': 9.2, 'evapotranspirationAvg': 0.104, 'evapotranspirationMax': 0.187, 'evapotranspirationMin': 0.001, 'evapotranspirationSum': 2.503, 'freezingRainIntensityAvg': 0, 'freezingRainIntensityMax': 0, 'freezingRainIntensityMin': 0, 'humidityAvg': 68, 'humidityMax': 95, 'humidityMin': 48, 'iceAccumulationAvg': 0, 'iceAccumulationLweAvg': 0, 'iceAccumulationLweMax': 0, 'iceAccumulationLweMin': 0, 'iceAccumulationLweSum': 0, 'iceAccumulationMax': 0, 'iceAccumulationMin': 0, 'iceAccumulationSum': 0, 'moonriseTime': '2025-06-11T21:15:29Z', 'moonsetTime': '2025-06-11T03:04:18Z', 'precipitationProbabilityAvg': 0.6, 'precipitationProbabilityMax': 5, 'precipitationProbabilityMin': 0, 'pressureSeaLevelAvg': 1017.91, 'pressureSeaLevelMax': 1020.69, 'pressureSeaLevelMin': 1013.78, 'pressureSurfaceLevelAvg': 1015.4, 'pressureSurfaceLevelMax': 1018.13, 'pressureSurfaceLevelMin': 1011.32, 'rainAccumulationAvg': 0, 'rainAccumulationMax': 0, 'rainAccumulationMin': 0, 'rainAccumulationSum': 0, 'rainIntensityAvg': 0, 'rainIntensityMax': 0.06, 'rainIntensityMin': 0, 'sleetAccumulationAvg': 0, 'sleetAccumulationLweAvg': 0, 'sleetAccumulationLweMax': 0, 'sleetAccumulationLweMin': 0, 'sleetAccumulationLweSum': 0, 'sleetAccumulationMax': 0, 'sleetAccumulationMin': 0, 'sleetIntensityAvg': 0, 'sleetIntensityMax': 0, 'sleetIntensityMin': 0, 'snowAccumulationAvg': 0, 'snowAccumulationLweAvg': 0, 'snowAccumulationLweMax': 0, 'snowAccumulationLweMin': 0, 'snowAccumulationLweSum': 0, 'snowAccumulationMax': 0, 'snowAccumulationMin': 0, 'snowAccumulationSum': 0, 'snowIntensityAvg': 0, 'snowIntensityMax': 0, 'snowIntensityMin': 0, 'sunriseTime': '2025-06-11T04:08:00Z', 'sunsetTime': '2025-06-11T19:54:00Z', 'temperatureApparentAvg': 18, 'temperatureApparentMax': 23.1, 'temperatureApparentMin': 12.9, 'temperatureAvg': 18, 'temperatureMax': 23.1, 'temperatureMin': 12.9, 'uvHealthConcernAvg': 0, 'uvHealthConcernMax': 1, 'uvHealthConcernMin': 0, 'uvIndexAvg': 1, 'uvIndexMax': 4, 'uvIndexMin': 0, 'visibilityAvg': 16, 'visibilityMax': 16, 'visibilityMin': 16, 'weatherCodeMax': 1001, 'weatherCodeMin': 1001, 'windDirectionAvg': 111, 'windGustAvg': 8, 'windGustMax': 10.1, 'windGustMin': 4.9, 'windSpeedAvg': 3.6, 'windSpeedMax': 4.5, 'windSpeedMin': 2.4}}, {'time': '2025-06-12T05:00:00Z', 'values': {'cloudBaseAvg': 1.9, 'cloudBaseMax': 6.3, 'cloudBaseMin': 0, 'cloudCeilingAvg': 2, 'cloudCeilingMax': 10.4, 'cloudCeilingMin': 0, 'cloudCoverAvg': 43, 'cloudCoverMax': 100, 'cloudCoverMin': 0, 'dewPointAvg': 13.5, 'dewPointMax': 15.7, 'dewPointMin': 11.1, 'evapotranspirationAvg': 0.134, 'evapotranspirationMax': 0.219, 'evapotranspirationMin': 0.073, 'evapotranspirationSum': 3.215, 'freezingRainIntensityAvg': 0, 'freezingRainIntensityMax': 0, 'freezingRainIntensityMin': 0, 'humidityAvg': 69, 'humidityMax': 94, 'humidityMin': 51, 'iceAccumulationAvg': 0, 'iceAccumulationLweAvg': 0, 'iceAccumulationLweMax': 0, 'iceAccumulationLweMin': 0, 'iceAccumulationLweSum': 0, 'iceAccumulationMax': 0, 'iceAccumulationMin': 0, 'iceAccumulationSum': 0, 'moonriseTime': '2025-06-12T22:03:45Z', 'moonsetTime': '2025-06-12T03:52:42Z', 'precipitationProbabilityAvg': 0, 'precipitationProbabilityMax': 0, 'precipitationProbabilityMin': 0, 'pressureSeaLevelAvg': 1013.7, 'pressureSeaLevelMax': 1017.25, 'pressureSeaLevelMin': 1010.68, 'pressureSurfaceLevelAvg': 1011.2, 'pressureSurfaceLevelMax': 1014.69, 'pressureSurfaceLevelMin': 1008.29, 'rainAccumulationAvg': 0, 'rainAccumulationMax': 0, 'rainAccumulationMin': 0, 'rainAccumulationSum': 0, 'rainIntensityAvg': 0, 'rainIntensityMax': 0, 'rainIntensityMin': 0, 'sleetIntensityAvg': 0, 'sleetIntensityMax': 0, 'sleetIntensityMin': 0, 'snowAccumulationAvg': 0, 'snowAccumulationLweAvg': 0, 'snowAccumulationLweMax': 0, 'snowAccumulationLweMin': 0, 'snowAccumulationLweSum': 0, 'snowAccumulationMax': 0, 'snowAccumulationMin': 0, 'snowAccumulationSum': 0, 'snowIntensityAvg': 0, 'snowIntensityMax': 0, 'snowIntensityMin': 0, 'sunriseTime': '2025-06-12T04:08:00Z', 'sunsetTime': '2025-06-12T19:55:00Z', 'temperatureApparentAvg': 19.7, 'temperatureApparentMax': 25.1, 'temperatureApparentMin': 14.3, 'temperatureAvg': 19.7, 'temperatureMax': 25.1, 'temperatureMin': 14.3, 'uvHealthConcernAvg': 0, 'uvHealthConcernMax': 1, 'uvHealthConcernMin': 0, 'uvIndexAvg': 1, 'uvIndexMax': 5, 'uvIndexMin': 0, 'visibilityAvg': 16, 'visibilityMax': 16, 'visibilityMin': 16, 'weatherCodeMax': 1000, 'weatherCodeMin': 1000, 'windDirectionAvg': 159, 'windGustAvg': 6.8, 'windGustMax': 12.1, 'windGustMin': 1.7, 'windSpeedAvg': 3.1, 'windSpeedMax': 5.2, 'windSpeedMin': 1}}]\n"
     ]
    }
   ],
   "source": [
    "response = requests.get(f\"https://api.tomorrow.io/v4/weather/forecast?location=51.470020, -0.454295&timesteps=1d&apikey={api_key}\")\n",
    "heathrow = response.json()\n",
    "\n",
    "print(heathrow['timelines']['daily'][0:3])"
   ]
  },
  {
   "cell_type": "markdown",
   "id": "387f678c-1ced-431d-bbc1-8873c466129c",
   "metadata": {},
   "source": [
    "**8. Print the date of each of the 3 days you're getting a forecast for.**"
   ]
  },
  {
   "cell_type": "code",
   "execution_count": 16,
   "id": "dd6e6b43-7963-49b6-bd7d-f6bbfaa9d642",
   "metadata": {},
   "outputs": [
    {
     "name": "stdout",
     "output_type": "stream",
     "text": [
      "2025-06-10\n",
      "2025-06-11\n",
      "2025-06-12\n"
     ]
    }
   ],
   "source": [
    "for weather in heathrow['timelines']['daily'][0:3]:\n",
    "    print(weather['time'][:10])"
   ]
  },
  {
   "cell_type": "markdown",
   "id": "afe45617-92be-4f8b-88a5-f62329470321",
   "metadata": {},
   "source": [
    "**9. Print the maximum temperature of each of the days.**"
   ]
  },
  {
   "cell_type": "code",
   "execution_count": 17,
   "id": "0a2510f4-a060-4b7d-a96f-295e929bc9e7",
   "metadata": {},
   "outputs": [
    {
     "name": "stdout",
     "output_type": "stream",
     "text": [
      "The maximum temperature on 2025-06-10 is 23.4 degrees C.\n",
      "The maximum temperature on 2025-06-11 is 23.1 degrees C.\n",
      "The maximum temperature on 2025-06-12 is 25.1 degrees C.\n"
     ]
    }
   ],
   "source": [
    "for weather in heathrow['timelines']['daily'][0:3]:\n",
    "    print(f\"The maximum temperature on {weather['time'][:10]} is {weather['values']['temperatureMax']} degrees C.\") "
   ]
  },
  {
   "cell_type": "markdown",
   "id": "435bf450-7ec1-49d8-997b-5154fa4c23ec",
   "metadata": {},
   "source": [
    "**10. Print only the day with the highest maximum temperature.**"
   ]
  },
  {
   "cell_type": "code",
   "execution_count": 19,
   "id": "d6a2c866-dfbf-4caa-b005-a4303643c965",
   "metadata": {},
   "outputs": [
    {
     "name": "stdout",
     "output_type": "stream",
     "text": [
      "2025-06-12 has the highest maximum temperature at 25.1 C.\n"
     ]
    }
   ],
   "source": [
    "highest_temp = -100\n",
    "\n",
    "highest_date = ''\n",
    "\n",
    "for weather in heathrow['timelines']['daily'][0:3]:\n",
    "    if weather['values']['temperatureMax'] > highest_temp:\n",
    "        highest_temp = weather['values']['temperatureMax']\n",
    "        highest_date = weather['time'][:10]\n",
    "        \n",
    "print(f\"{highest_date} has the highest maximum temperature at {highest_temp} C.\")"
   ]
  },
  {
   "cell_type": "markdown",
   "id": "3ed897e0-93da-4ec2-b73d-2e08735e1592",
   "metadata": {},
   "source": [
    "**11. Did you find this easier or more difficult than using the weatherapi.com, and why? Which would you recommend to someone interesting in building a tool around weather information?**"
   ]
  },
  {
   "cell_type": "markdown",
   "id": "d0d570d8-92d8-4d6a-903b-2d7233957d9e",
   "metadata": {},
   "source": [
    "I found this more difficult than weatherapi.com because it had less options. Weatherapi offered temperatures in both F and C, more options for location, and allowed me to pick how many days I wanted a forecast for. I would recommend weatherapi."
   ]
  }
 ],
 "metadata": {
  "kernelspec": {
   "display_name": "Python 3 (ipykernel)",
   "language": "python",
   "name": "python3"
  },
  "language_info": {
   "codemirror_mode": {
    "name": "ipython",
    "version": 3
   },
   "file_extension": ".py",
   "mimetype": "text/x-python",
   "name": "python",
   "nbconvert_exporter": "python",
   "pygments_lexer": "ipython3",
   "version": "3.12.0"
  }
 },
 "nbformat": 4,
 "nbformat_minor": 5
}
